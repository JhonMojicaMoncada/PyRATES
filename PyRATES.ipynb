{
 "cells": [
  {
   "cell_type": "markdown",
   "id": "9190cc2f-eee1-4acc-976c-412573ea5bcd",
   "metadata": {
    "tags": []
   },
   "source": [
    "| Step | Description    |   In   |      Out    |    Code  |\n",
    "|--|------|----------|---------------|--------------|\n",
    "| 1|Link Python with my Copernicus account | User and pass | Online access | Python |\n",
    "| 2|Search images on the dataset | Parameters such as location, dates, cloud cover |List of images | Python |\n",
    "| 3|Download images | Download script including the final location path | Images on my local folder | Python |\n",
    "| 4|Open 1 image on SNAP software | Script to open SNAP software and RGB image |Screen with the image available |Python - SNAP|\n",
    "| 5|Image resampling | Script to select and resample the study subregion (Lat, lon) | Subregion image | Python - SNAP | \n",
    "| 6|Image processing | Script to run C2RCC SNAP function | Image with turbidity saturation | Python - SNAP |\n",
    "| 7|Statistics | Script to get the stats of the image | Statistical values | Python |\n",
    "| 8|Repeat step 5-8 for each image | Loop to work with all images | Images and stats of each image downloaded | Python|\n",
    "| 9|Insitu data | Load, plot and get stats of insitu data | Plots and values | Python |\n",
    "|10|Match time series |Match by dates and parameters satellite and insitu data | Group of values, images |Python|\n",
    "|11|Correlation, Spectral analysis, data analysis | Run pyleoclim functions | values, plots | Python |\n"
   ]
  },
  {
   "cell_type": "markdown",
   "id": "0f19f334-6c67-4575-8d05-bff25db57522",
   "metadata": {},
   "source": []
  }
 ],
 "metadata": {
  "kernelspec": {
   "display_name": "Python 3 (ipykernel)",
   "language": "python",
   "name": "python3"
  },
  "language_info": {
   "codemirror_mode": {
    "name": "ipython",
    "version": 3
   },
   "file_extension": ".py",
   "mimetype": "text/x-python",
   "name": "python",
   "nbconvert_exporter": "python",
   "pygments_lexer": "ipython3",
   "version": "3.9.12"
  }
 },
 "nbformat": 4,
 "nbformat_minor": 5
}
